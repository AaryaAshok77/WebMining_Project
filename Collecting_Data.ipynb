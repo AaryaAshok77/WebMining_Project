{
 "cells": [
  {
   "cell_type": "markdown",
   "metadata": {},
   "source": [
    "# Collecting Data from Reddit"
   ]
  },
  {
   "cell_type": "markdown",
   "metadata": {},
   "source": [
    "### Initializing Credentials"
   ]
  },
  {
   "cell_type": "code",
   "execution_count": 13,
   "metadata": {},
   "outputs": [],
   "source": [
    "CLIENT_ID = \"GbVvvSOZu9bO3djKqNJPVA\"\n",
    "SECRET_KEY = \"wExw0ldOLveeMlwtMFuAlw8lsv8t5A\"\n",
    "UNAME = \"aak_21mic0155\"\n",
    "PWD = \"redrobot@7\""
   ]
  },
  {
   "cell_type": "markdown",
   "metadata": {},
   "source": [
    "### Creating Reddit Object"
   ]
  },
  {
   "cell_type": "code",
   "execution_count": 14,
   "metadata": {},
   "outputs": [],
   "source": [
    "import praw"
   ]
  },
  {
   "cell_type": "code",
   "execution_count": 15,
   "metadata": {},
   "outputs": [],
   "source": [
    "reddit = praw.Reddit(\n",
    "    client_id=CLIENT_ID,\n",
    "    client_secret=SECRET_KEY,\n",
    "    user_agent=\"MyAPI/0.0.1\",\n",
    "    username=UNAME,\n",
    "    password=PWD\n",
    ")"
   ]
  },
  {
   "cell_type": "markdown",
   "metadata": {},
   "source": [
    "### Storing Data into .json file"
   ]
  },
  {
   "cell_type": "code",
   "execution_count": 16,
   "metadata": {},
   "outputs": [],
   "source": [
    "import json"
   ]
  },
  {
   "cell_type": "code",
   "execution_count": 17,
   "metadata": {},
   "outputs": [
    {
     "name": "stdout",
     "output_type": "stream",
     "text": [
      "ok successfully write into file reddit_data.json\n"
     ]
    }
   ],
   "source": [
    "try:\n",
    "    f = open(\"reddit_data.json\", \"w\")\n",
    "    # hot posts from a subreddit\n",
    "    subred = reddit.subreddit(\"learnpython\")\n",
    "    hot_posts = subred.hot(limit=1000)\n",
    "\n",
    "    for post in hot_posts:\n",
    "        # Extract relevant data from the post object\n",
    "        post_data = {\n",
    "            'title': post.title,\n",
    "            'score': post.score,\n",
    "            'id': post.id,\n",
    "            'url': post.url,\n",
    "            'num_comments': post.num_comments,\n",
    "            'body': post.selftext,\n",
    "            # Add any other relevant attributes you need\n",
    "        }\n",
    "\n",
    "        s = json.dumps(post_data)  # Convert the post data to a JSON string\n",
    "        f.write(s + '\\n')  # Write the JSON string to the file, with a newline\n",
    "        # print(post_data)  # Print the post data\n",
    "\n",
    "except IOError:\n",
    "    print(\"error in writing file reddit_data.json\")\n",
    "    f.close()\n",
    "else:\n",
    "    print(\"ok successfully write into file reddit_data.json\")\n",
    "    f.close()"
   ]
  }
 ],
 "metadata": {
  "kernelspec": {
   "display_name": "Python 3",
   "language": "python",
   "name": "python3"
  },
  "language_info": {
   "codemirror_mode": {
    "name": "ipython",
    "version": 3
   },
   "file_extension": ".py",
   "mimetype": "text/x-python",
   "name": "python",
   "nbconvert_exporter": "python",
   "pygments_lexer": "ipython3",
   "version": "3.11.7"
  }
 },
 "nbformat": 4,
 "nbformat_minor": 2
}
